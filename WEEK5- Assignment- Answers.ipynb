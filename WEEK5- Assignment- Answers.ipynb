{
 "cells": [
  {
   "cell_type": "markdown",
   "id": "8ab1612f",
   "metadata": {},
   "source": [
    "## WEEK5 Assignment- Python  File Input and Output"
   ]
  },
  {
   "cell_type": "markdown",
   "id": "03f2d3d6",
   "metadata": {},
   "source": [
    "```\n",
    "Q.1 Problem Statements:\n",
    "Create a python program for taking user notes in text file. When a user starts it up, it should prompt them for a filename.\n",
    "If they enter a file name that doesn't exist, it should prompt them to enter the text they want to write to the file.\n",
    "After they enter the text, it should save the file and exit.If they enter a file name that already exists, \n",
    "it should ask the user if they want:\n",
    "A) Read the file\n",
    "B) Append the file\n",
    "C) Delete the file and start over\n",
    "\n",
    "If the user wants to read the file it should simply show the contents of the file on the screen.\n",
    "If the user wants to start over then the file should be deleted and another empty one made in its place.\n",
    "If a user elects to append the file, then they should be able to enter more text, \n",
    "and that text should be added to the existing text in the file.\n",
    "\n",
    "Note:\n",
    "    The software Development Team created partial python code for the above problem statement, you try to help them to complete the code wherever required and produce successful output \n",
    "```"
   ]
  },
  {
   "cell_type": "code",
   "execution_count": 80,
   "id": "abb6eca2",
   "metadata": {},
   "outputs": [
    {
     "name": "stdin",
     "output_type": "stream",
     "text": [
      "Please enter the filename:  Habi.txt\n"
     ]
    },
    {
     "name": "stdout",
     "output_type": "stream",
     "text": [
      "Looking for file:Habi.txt\n",
      "Found it\n"
     ]
    },
    {
     "name": "stdin",
     "output_type": "stream",
     "text": [
      "Enter the possible file operation: read, append, delete, replace\n",
      " read\n"
     ]
    },
    {
     "name": "stdout",
     "output_type": "stream",
     "text": [
      "The content of the file:\n",
      "Hi\n",
      "Habi\n",
      "\n"
     ]
    }
   ],
   "source": [
    "import os\n",
    "filename = input(\"Please enter the filename: \")\n",
    "# Here we check if the file exists\n",
    "if os.path.isfile(\"./\" + filename):\n",
    "    print(f\"Looking for file:{filename}\")\n",
    "    print(\"Found it\")\n",
    "    action = input(\"Enter the possible file operation: read, append, delete, replace\\n\")\n",
    "    if action==\"read\":\n",
    "        \"\"\"To Do : write the code for file read operation\"\"\"\n",
    "        print(\"The content of the file:\")\n",
    "        with open(filename, \"r\") as fl:\n",
    "            print(fl.read())\n",
    "       \n",
    "    elif action==\"append\":\n",
    "        \"\"\"To Do : write the code for file append operation\"\"\"\n",
    "        with open(filename, 'a') as fo:\n",
    "            fo.write(input(\"Enter content:\")+\"\\n\")\n",
    "        \n",
    "        \n",
    "    elif action == \"delete\":\n",
    "        \"\"\"To Do : write the code for file dalete and another empty one made in its place operation\"\"\"\n",
    "        os.remove(\"./\" + filename)\n",
    "    elif action == \"replace\":\n",
    "        l=int(input(\"Enter the line number for the replacement:\"))\n",
    "        c=input(\"Enter the content:\")\n",
    "        with open(filename, 'r') as fo:\n",
    "            d=fo.readlines()    \n",
    "            with open(filename, 'w') as fo:\n",
    "                for i, line in enumerate(d):\n",
    "                    if i == l-1:\n",
    "                        fo.write(c + \"\\n\")\n",
    "                    else:\n",
    "                        fo.write(line)                \n",
    "    else:\n",
    "        print(\"Sorry, unrecognized action 😢\")\n",
    "else:\n",
    "    print(\"Nope, this file does not exist, I'm going to create it for you! 😄\")\n",
    "    with open(filename, 'a') as fo:\n",
    "        fo.write(input(\"Enter the content:\")+\"\\n\")\n",
    "    \"\"\"To Do : write the code for file create and write the notes \"\"\"\n"
   ]
  },
  {
   "cell_type": "markdown",
   "id": "3770112e",
   "metadata": {},
   "source": [
    "```\n",
    "Q2.Text File Analytics:\n",
    "Q2.1 Assume you as Data Analyst, you need to collect all text file name from current working directory and store the all text file name into \n",
    "    \"txtfile_namelist.txt\" and read this file and print How many files are available in that namelist.\n",
    "```"
   ]
  },
  {
   "cell_type": "markdown",
   "id": "21e1504b",
   "metadata": {},
   "source": [
    "```    \n",
    "Q2.2 write the following contents to zenofpython.txt\n",
    "content:\n",
    "--------------------------------------------------------------\n",
    "The Zen of Python, by Tim Peters\n",
    "Beautiful is better than ugly.\n",
    "Explicit is better than implicit.\n",
    "Simple is better than complex.\n",
    "Complex is better than complicated.\n",
    "Flat is better than nested.\n",
    "Sparse is better than dense.\n",
    "Readability counts.\n",
    "Special cases aren't special enough to break the rules.\n",
    "Although practicality beats purity.\n",
    "Errors should never pass silently.\n",
    "Unless explicitly silenced.\n",
    "In the face of ambiguity, refuse the temptation to guess.\n",
    "There should be one -- and preferably only one -- obvious way to do it.\n",
    "Although that way may not be obvious at first unless you're Dutch.\n",
    "Now is better than never.\n",
    "Although never is often better than right now.\n",
    "If the implementation is hard to explain, it's a bad idea.\n",
    "If the implementation is easy to explain, it may be a good idea.\n",
    "Namespaces are one honking great idea -- let's do more of those!\n",
    "------------------------------------------------------------------\n",
    "an perform the following Operation:\n",
    "1.print number of lines in the zenofpython.txt file\n",
    "2.print number of words in the zenofpython.txt file\n",
    "3.Print how may python keyword present in the zenofpython.txt file\n",
    "4.print the all content in uppercase\n",
    "```"
   ]
  },
  {
   "cell_type": "code",
   "execution_count": 8,
   "id": "bfe6d141-fae9-4314-94d1-15f2f6793ca8",
   "metadata": {},
   "outputs": [
    {
     "name": "stdout",
     "output_type": "stream",
     "text": [
      "The number of lines in file:\n",
      "20\n"
     ]
    }
   ],
   "source": [
    "with open(r\"E:\\Text\\zenofpython.txt\",\"r\") as fo:\n",
    "    print(\"The number of lines in file:\")\n",
    "    print(len(fo.readlines()))    "
   ]
  },
  {
   "cell_type": "code",
   "execution_count": 10,
   "id": "ebe4817d",
   "metadata": {},
   "outputs": [
    {
     "name": "stdout",
     "output_type": "stream",
     "text": [
      "The number of words in file:\n",
      "146\n"
     ]
    }
   ],
   "source": [
    "n=0\n",
    "with open(r\"E:\\Text\\zenofpython.txt\",\"r\") as fo:\n",
    "    for line in fo:\n",
    "        words=line.split()\n",
    "        n+=len(words)\n",
    "print(\"The number of words in file:\")\n",
    "print(n)"
   ]
  },
  {
   "cell_type": "code",
   "execution_count": 6,
   "id": "1ff85791-8b2d-42c5-9d73-d39554895665",
   "metadata": {},
   "outputs": [
    {
     "name": "stdout",
     "output_type": "stream",
     "text": [
      "The file contains some elements of the keywords:\n",
      "not and break pass is\n"
     ]
    }
   ],
   "source": [
    "import keyword\n",
    "kw = keyword.kwlist\n",
    "with open(r\"E:\\Text\\zenofpython.txt\",\"r\") as fo:\n",
    "    data = fo.read()\n",
    "    words = data.split()  \n",
    "    check = any(item in kw for item in words)\n",
    "\n",
    "    if check is True:\n",
    "        print(\"The file contains some elements of the keywords:\")\n",
    "    else:\n",
    "        print(\"No, file doesn't have any elements of the keywords.\")\n",
    "\n",
    "    set1 = set(kw)  \n",
    "    set2 = set(words)\n",
    "\n",
    "    if (set1 & set2):\n",
    "        s=set1 & set2\n",
    "        print(*s)\n",
    "    else:\n",
    "        print(\"No common elements\")\n"
   ]
  },
  {
   "cell_type": "code",
   "execution_count": 13,
   "id": "e8f800d0-b624-484f-91ea-06c0d4f9b303",
   "metadata": {},
   "outputs": [
    {
     "name": "stdout",
     "output_type": "stream",
     "text": [
      "THE ZEN OF PYTHON, BY TIM PETERS\n",
      "BEAUTIFUL IS BETTER THAN UGLY.\n",
      "EXPLICIT IS BETTER THAN IMPLICIT.\n",
      "SIMPLE IS BETTER THAN COMPLEX.\n",
      "COMPLEX IS BETTER THAN COMPLICATED.\n",
      "FLAT IS BETTER THAN NESTED.\n",
      "SPARSE IS BETTER THAN DENSE.\n",
      "READABILITY COUNTS.\n",
      "SPECIAL CASES AREN'T SPECIAL ENOUGH TO BREAK THE RULES.\n",
      "ALTHOUGH PRACTICALITY BEATS PURITY.\n",
      "ERRORS SHOULD NEVER PASS SILENTLY.\n",
      "UNLESS EXPLICITLY SILENCED.\n",
      "IN THE FACE OF AMBIGUITY, REFUSE THE TEMPTATION TO GUESS.\n",
      "THERE SHOULD BE ONE -- AND PREFERABLY ONLY ONE -- OBVIOUS WAY TO DO IT.\n",
      "ALTHOUGH THAT WAY MAY NOT BE OBVIOUS AT FIRST UNLESS YOU'RE DUTCH.\n",
      "NOW IS BETTER THAN NEVER.\n",
      "ALTHOUGH NEVER IS OFTEN BETTER THAN RIGHT NOW.\n",
      "IF THE IMPLEMENTATION IS HARD TO EXPLAIN, IT'S A BAD IDEA.\n",
      "IF THE IMPLEMENTATION IS EASY TO EXPLAIN, IT MAY BE A GOOD IDEA.\n",
      "NAMESPACES ARE ONE HONKING GREAT IDEA -- LET'S DO MORE OF THOSE!\n"
     ]
    }
   ],
   "source": [
    "with open(r\"E:\\Text\\zenofpython.txt\",\"r\") as fo:\n",
    "       print(fo.read().upper())"
   ]
  },
  {
   "cell_type": "code",
   "execution_count": null,
   "id": "6d0be2b5-93d9-47af-8595-03299c805df9",
   "metadata": {},
   "outputs": [],
   "source": []
  }
 ],
 "metadata": {
  "kernelspec": {
   "display_name": "Python 3 (ipykernel)",
   "language": "python",
   "name": "python3"
  },
  "language_info": {
   "codemirror_mode": {
    "name": "ipython",
    "version": 3
   },
   "file_extension": ".py",
   "mimetype": "text/x-python",
   "name": "python",
   "nbconvert_exporter": "python",
   "pygments_lexer": "ipython3",
   "version": "3.9.7"
  }
 },
 "nbformat": 4,
 "nbformat_minor": 5
}
